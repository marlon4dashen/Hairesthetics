{
 "cells": [
  {
   "cell_type": "code",
   "execution_count": 1,
   "id": "1bd655dd",
   "metadata": {},
   "outputs": [
    {
     "name": "stdout",
     "output_type": "stream",
     "text": [
      "Package               Version\r\n",
      "--------------------- -----------\r\n",
      "absl-py               1.2.0\r\n",
      "anyio                 3.6.2\r\n",
      "appnope               0.1.3\r\n",
      "argon2-cffi           21.3.0\r\n",
      "argon2-cffi-bindings  21.2.0\r\n",
      "asttokens             2.1.0\r\n",
      "attrs                 22.1.0\r\n",
      "backcall              0.2.0\r\n",
      "beautifulsoup4        4.11.1\r\n",
      "bleach                5.0.1\r\n",
      "certifi               2022.9.24\r\n",
      "cffi                  1.15.1\r\n",
      "charset-normalizer    2.1.1\r\n",
      "contourpy             1.0.5\r\n",
      "cycler                0.11.0\r\n",
      "debugpy               1.6.3\r\n",
      "decorator             5.1.1\r\n",
      "defusedxml            0.7.1\r\n",
      "entrypoints           0.4\r\n",
      "executing             1.2.0\r\n",
      "fastjsonschema        2.16.2\r\n",
      "filetype              1.0.7\r\n",
      "flatbuffers           22.10.26\r\n",
      "fonttools             4.37.4\r\n",
      "idna                  3.4\r\n",
      "importlib-metadata    5.0.0\r\n",
      "ipykernel             6.17.1\r\n",
      "ipython               8.6.0\r\n",
      "ipython-genutils      0.2.0\r\n",
      "ipywidgets            8.0.2\r\n",
      "jedi                  0.18.2\r\n",
      "Jinja2                3.1.2\r\n",
      "joblib                1.2.0\r\n",
      "jsonschema            4.17.1\r\n",
      "jupyter               1.0.0\r\n",
      "jupyter_client        7.4.7\r\n",
      "jupyter-console       6.4.4\r\n",
      "jupyter_core          5.0.0\r\n",
      "jupyter-server        1.23.3\r\n",
      "jupyterlab-pygments   0.2.2\r\n",
      "jupyterlab-widgets    3.0.3\r\n",
      "kiwisolver            1.4.4\r\n",
      "MarkupSafe            2.1.1\r\n",
      "matplotlib            3.6.1\r\n",
      "matplotlib-inline     0.1.6\r\n",
      "mediapipe             0.8.9\r\n",
      "mistune               2.0.4\r\n",
      "nbclassic             0.4.8\r\n",
      "nbclient              0.7.0\r\n",
      "nbconvert             7.2.5\r\n",
      "nbformat              5.7.0\r\n",
      "nest-asyncio          1.5.6\r\n",
      "notebook              6.5.2\r\n",
      "notebook_shim         0.2.2\r\n",
      "numpy                 1.19.4\r\n",
      "onnxruntime           1.9.0\r\n",
      "opencv-contrib-python 4.6.0.66\r\n",
      "opencv-python         4.4.0.46\r\n",
      "packaging             21.3\r\n",
      "pandocfilters         1.5.0\r\n",
      "parso                 0.8.3\r\n",
      "pexpect               4.8.0\r\n",
      "pickleshare           0.7.5\r\n",
      "Pillow                9.2.0\r\n",
      "pip                   22.2.2\r\n",
      "platformdirs          2.5.4\r\n",
      "prometheus-client     0.15.0\r\n",
      "prompt-toolkit        3.0.33\r\n",
      "protobuf              3.20.3\r\n",
      "psutil                5.9.4\r\n",
      "ptyprocess            0.7.0\r\n",
      "pure-eval             0.2.2\r\n",
      "pycparser             2.21\r\n",
      "Pygments              2.13.0\r\n",
      "pyparsing             3.0.9\r\n",
      "pyrsistent            0.19.2\r\n",
      "python-dateutil       2.8.2\r\n",
      "pyzmq                 24.0.1\r\n",
      "qtconsole             5.4.0\r\n",
      "QtPy                  2.3.0\r\n",
      "requests              2.28.1\r\n",
      "scikit-learn          1.0.1\r\n",
      "scipy                 1.9.3\r\n",
      "Send2Trash            1.8.0\r\n",
      "setuptools            65.5.0\r\n",
      "six                   1.16.0\r\n",
      "sniffio               1.3.0\r\n",
      "soupsieve             2.3.2.post1\r\n",
      "stack-data            0.6.1\r\n",
      "terminado             0.17.0\r\n",
      "threadpoolctl         3.1.0\r\n",
      "tinycss2              1.2.1\r\n",
      "torch                 1.13.0\r\n",
      "torchvision           0.14.0\r\n",
      "tornado               6.2\r\n",
      "traitlets             5.5.0\r\n",
      "typing_extensions     4.4.0\r\n",
      "urllib3               1.26.12\r\n",
      "wcwidth               0.2.5\r\n",
      "webcolors             1.11.1\r\n",
      "webencodings          0.5.1\r\n",
      "websocket-client      1.4.2\r\n",
      "wheel                 0.37.1\r\n",
      "widgetsnbextension    4.0.3\r\n",
      "zipp                  3.10.0\r\n"
     ]
    }
   ],
   "source": [
    "!pip list"
   ]
  },
  {
   "cell_type": "code",
   "execution_count": 2,
   "id": "4455c316",
   "metadata": {},
   "outputs": [
    {
     "name": "stdout",
     "output_type": "stream",
     "text": [
      "Python 3.9.15\r\n"
     ]
    }
   ],
   "source": [
    "!python --version"
   ]
  },
  {
   "cell_type": "code",
   "execution_count": null,
   "id": "e299bcda",
   "metadata": {},
   "outputs": [],
   "source": []
  }
 ],
 "metadata": {
  "kernelspec": {
   "display_name": "Python 3 (ipykernel)",
   "language": "python",
   "name": "python3"
  },
  "language_info": {
   "codemirror_mode": {
    "name": "ipython",
    "version": 3
   },
   "file_extension": ".py",
   "mimetype": "text/x-python",
   "name": "python",
   "nbconvert_exporter": "python",
   "pygments_lexer": "ipython3",
   "version": "3.9.15"
  }
 },
 "nbformat": 4,
 "nbformat_minor": 5
}
